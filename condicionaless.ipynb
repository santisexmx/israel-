{
 "cells": [
  {
   "cell_type": "code",
   "execution_count": 9,
   "metadata": {},
   "outputs": [
    {
     "name": "stdout",
     "output_type": "stream",
     "text": [
      "¿Qué fecha es hoy?\n",
      "¿En que fecha naciste?\n",
      "no es tu cumplaños ctm\n"
     ]
    }
   ],
   "source": [
    "print(\"¿Qué fecha es hoy?\")\n",
    "fecha = input(\"Ingresa una fecha\")\n",
    "print(\"¿En que fecha naciste?\")\n",
    "fecha_de_nacimiento = input(\"Ingresa tu fecha de nacimiento\")\n",
    "if fecha == fecha_de_nacimiento: \n",
    "    print(\"Es tu cumplaños\")\n",
    "else:\n",
    "    print(\"no es tu cumplaños ctm\") \n",
    "\n",
    "   \n",
    "\n"
   ]
  },
  {
   "cell_type": "code",
   "execution_count": 10,
   "metadata": {},
   "outputs": [
    {
     "name": "stdout",
     "output_type": "stream",
     "text": [
      "ingresa un numero\n",
      "ingresa otro numero\n",
      "25\n",
      "25\n",
      "son valores iguales\n"
     ]
    }
   ],
   "source": [
    "print(\"ingresa un numero\")\n",
    "numero1 = int(input(\"ingresa el numero 5\"))\n",
    "print(\"ingresa otro numero\")\n",
    "numero2 = int(input (\"ingresa el numero 10\"))\n",
    "valor1 = (numero1*5)\n",
    "valor2 = (numero2+15)\n",
    "print (valor1)\n",
    "print (valor2)\n",
    "if valor1 == valor2:\n",
    "    print(\"son valores iguales\")\n",
    "\n",
    "\n",
    "\n"
   ]
  },
  {
   "cell_type": "code",
   "execution_count": 8,
   "metadata": {},
   "outputs": [
    {
     "name": "stdout",
     "output_type": "stream",
     "text": [
      "ingresa tu codigo postal\n",
      "esta dentro del rango de entrega\n"
     ]
    }
   ],
   "source": [
    "print(\"ingresa tu codigo postal\")\n",
    "cp = int(input(\"ingresa tu cp\"))\n",
    "if 50000 <= cp <=50030:\n",
    "    print(\"esta dentro del rango de entrega\")\n",
    "else:\n",
    "    print(\"no esta dentro dl rango de entrega ya te jodiste\")\n",
    "\n",
    "\n"
   ]
  }
 ],
 "metadata": {
  "kernelspec": {
   "display_name": "Python 3",
   "language": "python",
   "name": "python3"
  },
  "language_info": {
   "codemirror_mode": {
    "name": "ipython",
    "version": 3
   },
   "file_extension": ".py",
   "mimetype": "text/x-python",
   "name": "python",
   "nbconvert_exporter": "python",
   "pygments_lexer": "ipython3",
   "version": "3.11.7"
  }
 },
 "nbformat": 4,
 "nbformat_minor": 2
}
