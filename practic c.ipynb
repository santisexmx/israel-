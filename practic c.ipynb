{
 "cells": [
  {
   "cell_type": "code",
   "execution_count": 2,
   "metadata": {},
   "outputs": [
    {
     "name": "stdout",
     "output_type": "stream",
     "text": [
      "Saca tu curp\n",
      "I\n",
      "S\n",
      "17\n",
      "IS172004\n"
     ]
    }
   ],
   "source": [
    "print (\"Saca tu curp\")\n",
    "nombre = input(\"ingresa tu primer nombre\")\n",
    "primera_letra = nombre[0]\n",
    "print(primera_letra)\n",
    "segundo_nombre = input(\"ingresa tu segundo nombre\")\n",
    "segunda_letra = segundo_nombre[0]\n",
    "print(segunda_letra)\n",
    "fecha = input(\"ingresa tu fecha de nacimiento\")\n",
    "año = fecha[3]\n",
    "edad = input(\"ingresa tu edad\")\n",
    "print(edad)\n",
    "CURP = (primera_letra+segunda_letra+edad+fecha)\n",
    "print (CURP)\n"
   ]
  }
 ],
 "metadata": {
  "kernelspec": {
   "display_name": "Python 3",
   "language": "python",
   "name": "python3"
  },
  "language_info": {
   "codemirror_mode": {
    "name": "ipython",
    "version": 3
   },
   "file_extension": ".py",
   "mimetype": "text/x-python",
   "name": "python",
   "nbconvert_exporter": "python",
   "pygments_lexer": "ipython3",
   "version": "3.11.7"
  }
 },
 "nbformat": 4,
 "nbformat_minor": 2
}
